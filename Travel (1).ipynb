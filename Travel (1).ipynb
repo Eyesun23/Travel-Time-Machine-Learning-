{
 "cells": [
  {
   "cell_type": "markdown",
   "metadata": {},
   "source": [
    "## Estimating Travel Time\n",
    "\n",
    "\n",
    "The objective of this document is proposing a prediction model for estimating the travel time of two\n",
    "specified locations at a given departure time. The main idea here is predicting the velocity of the trip. Given the distance between starting and ending point of the trip, it is possible to easily compute the Travel Time. \n",
    "According to the given data, different features including the time of the day, day of the week, month, travel distance, and distance to the center of the city (New York) are used.\n",
    "Different prediction models (Linear, GLM and Deep Neural Network) are compared, and the GLM is used for genrating the final results."
   ]
  },
  {
   "cell_type": "markdown",
   "metadata": {},
   "source": [
    "## Preparation\n",
    "Import required libraries"
   ]
  },
  {
   "cell_type": "code",
   "execution_count": 136,
   "metadata": {},
   "outputs": [],
   "source": [
    "import numpy as np\n",
    "import pandas as pd\n",
    "from geopy.distance import vincenty\n",
    "from datetime import datetime\n",
    "from datetime import timedelta\n",
    "from datetime import time\n",
    "\n",
    "import statsmodels.api as sm\n",
    " \n",
    "\n",
    "\n",
    "from sklearn.datasets import load_boston\n",
    "from sklearn.model_selection import train_test_split\n",
    "from sklearn.cross_validation import KFold\n",
    "from sklearn.preprocessing import MinMaxScaler\n",
    "from sklearn.linear_model import LinearRegression\n",
    "from sklearn.metrics import mean_absolute_error, mean_squared_error\n",
    "\n",
    "\n",
    "import matplotlib\n",
    "import matplotlib.pyplot as plt\n",
    "import seaborn as sns\n",
    "\n",
    "\n",
    "\n",
    "from keras.models import Sequential\n",
    "from keras.layers import Dense, Dropout, Activation, Flatten\n",
    "from keras.layers.normalization import BatchNormalization\n",
    "\n",
    "\n",
    "%matplotlib inline"
   ]
  },
  {
   "cell_type": "markdown",
   "metadata": {},
   "source": [
    "##  Reading data"
   ]
  },
  {
   "cell_type": "code",
   "execution_count": 169,
   "metadata": {
    "scrolled": true
   },
   "outputs": [
    {
     "name": "stderr",
     "output_type": "stream",
     "text": [
      "/Users/z002df6/anaconda/lib/python3.6/site-packages/numpy/lib/arraysetops.py:463: FutureWarning: elementwise comparison failed; returning scalar instead, but in the future will perform elementwise comparison\n",
      "  mask |= (ar1 == a)\n"
     ]
    },
    {
     "data": {
      "text/html": [
       "<div>\n",
       "<style>\n",
       "    .dataframe thead tr:only-child th {\n",
       "        text-align: right;\n",
       "    }\n",
       "\n",
       "    .dataframe thead th {\n",
       "        text-align: left;\n",
       "    }\n",
       "\n",
       "    .dataframe tbody tr th {\n",
       "        vertical-align: top;\n",
       "    }\n",
       "</style>\n",
       "<table border=\"1\" class=\"dataframe\">\n",
       "  <thead>\n",
       "    <tr style=\"text-align: right;\">\n",
       "      <th></th>\n",
       "      <th>start_lng</th>\n",
       "      <th>start_lat</th>\n",
       "      <th>end_lng</th>\n",
       "      <th>end_lat</th>\n",
       "      <th>start_timestamp</th>\n",
       "      <th>duration</th>\n",
       "    </tr>\n",
       "    <tr>\n",
       "      <th>row_id</th>\n",
       "      <th></th>\n",
       "      <th></th>\n",
       "      <th></th>\n",
       "      <th></th>\n",
       "      <th></th>\n",
       "      <th></th>\n",
       "    </tr>\n",
       "  </thead>\n",
       "  <tbody>\n",
       "    <tr>\n",
       "      <th>0</th>\n",
       "      <td>-74.009087</td>\n",
       "      <td>40.713818</td>\n",
       "      <td>-74.004326</td>\n",
       "      <td>40.719986</td>\n",
       "      <td>1420950819</td>\n",
       "      <td>112</td>\n",
       "    </tr>\n",
       "    <tr>\n",
       "      <th>1</th>\n",
       "      <td>-73.971176</td>\n",
       "      <td>40.762428</td>\n",
       "      <td>-74.004181</td>\n",
       "      <td>40.742653</td>\n",
       "      <td>1420950819</td>\n",
       "      <td>1159</td>\n",
       "    </tr>\n",
       "    <tr>\n",
       "      <th>2</th>\n",
       "      <td>-73.994957</td>\n",
       "      <td>40.745079</td>\n",
       "      <td>-73.999939</td>\n",
       "      <td>40.734650</td>\n",
       "      <td>1421377541</td>\n",
       "      <td>281</td>\n",
       "    </tr>\n",
       "    <tr>\n",
       "      <th>3</th>\n",
       "      <td>-73.991127</td>\n",
       "      <td>40.750080</td>\n",
       "      <td>-73.988609</td>\n",
       "      <td>40.734890</td>\n",
       "      <td>1421377542</td>\n",
       "      <td>636</td>\n",
       "    </tr>\n",
       "    <tr>\n",
       "      <th>4</th>\n",
       "      <td>-73.945511</td>\n",
       "      <td>40.773724</td>\n",
       "      <td>-73.987434</td>\n",
       "      <td>40.755707</td>\n",
       "      <td>1422173586</td>\n",
       "      <td>705</td>\n",
       "    </tr>\n",
       "  </tbody>\n",
       "</table>\n",
       "</div>"
      ],
      "text/plain": [
       "        start_lng  start_lat    end_lng    end_lat  start_timestamp  duration\n",
       "row_id                                                                       \n",
       "0      -74.009087  40.713818 -74.004326  40.719986       1420950819       112\n",
       "1      -73.971176  40.762428 -74.004181  40.742653       1420950819      1159\n",
       "2      -73.994957  40.745079 -73.999939  40.734650       1421377541       281\n",
       "3      -73.991127  40.750080 -73.988609  40.734890       1421377542       636\n",
       "4      -73.945511  40.773724 -73.987434  40.755707       1422173586       705"
      ]
     },
     "execution_count": 169,
     "metadata": {},
     "output_type": "execute_result"
    }
   ],
   "source": [
    "df_train = pd.read_csv('train.csv',index_col= 'row_id')\n",
    "df_test  = pd.read_csv('test.csv',index_col= 'row_id')\n",
    "df_train.head()"
   ]
  },
  {
   "cell_type": "markdown",
   "metadata": {},
   "source": [
    "## Feature engineering\n",
    "\n",
    "It is clear that the travel time of trip depends on the starting and ending point. In other words, the most uncertain component in the prediction of travel time is the velocity of the trip. Given the velocity and the distance, it is easy to compute the duration of the travel. \n",
    "\n",
    "Also, I observed all travels in both train and test dataset are happening around New York City. Therefore, the main component in determining the velocity of is the city traffic. We know that traffic is a time-dependent phenomenon which depends on the time of the day, the day of the week, and month of the year. In addition, the traffic is usually heavier in Manhattan (downtown of the city) in comparing to the other point of the city. Therefore, if the starting or ending point of the travel is close to the Manhattan we expect higher traffic comparing to the other neighborhoods. In visualization section, I provide enough evidence from the data set to support the aforementioned claims.   \n",
    "\n",
    "According to this observation the following features are computted by using the raw data and added to the dataframe.\n",
    "\n",
    "* Distance between starting and ending computted by vincenty formula\n",
    "* The time of the day of travel (in sec far from the midnight) \n",
    "* The day of the week (Monday, Tuesday, etc). For this categorical data, six dummy variables are added to datafram\n",
    "* The month of the travel to capture seasnolity effect.\n",
    "* The sequare of distance\n",
    "* The velocity is used as the predication variable.\n"
   ]
  },
  {
   "cell_type": "code",
   "execution_count": 156,
   "metadata": {
    "collapsed": true
   },
   "outputs": [],
   "source": [
    "def distance(row):\n",
    "    source = (row['start_lat'], row['start_lng'])\n",
    "    dest = ( row['end_lat'], row['end_lng'])\n",
    "    return vincenty(source,dest).miles\n",
    "\n",
    "\n",
    "Manhattan = (40.7831, -73.9712)\n",
    "def pickup_to_MH(row):\n",
    "    '''find the distance between pick up point and Manhattan center'''\n",
    "    source = (row['start_lat'], row['start_lng'])\n",
    "    return vincenty(source,Manhattan).miles\n",
    "\n",
    "def dropoff_to_MH(row):\n",
    "    '''find the distance between dropoff point and Manhattan center'''\n",
    "    dest = ( row['end_lat'], row['end_lng'])\n",
    "    return vincenty(dest,Manhattan).miles\n",
    "\n",
    "def day_of_week(ep):\n",
    "    return datetime.fromtimestamp(ep).strftime(\"%A\")\n",
    "\n",
    "\n",
    "def month(ep):\n",
    "    return datetime.fromtimestamp(ep).month\n",
    "\n",
    "def time_of_day(ep):\n",
    "    ref = datetime(2015, 1, 1, 0, 0, 0)\n",
    "    sec = (datetime.fromtimestamp(ep)- ref).seconds\n",
    "    return min(sec, 86400- sec)\n",
    "    \n",
    "def year(ep):\n",
    "    return datetime.fromtimestamp(ep).year\n",
    "\n",
    "def add_features(df_train_s):\n",
    "    \n",
    "    # Add day of the week and the dummy variable\n",
    "    DD  = df_train_s['start_timestamp'].map(day_of_week)\n",
    "    df_train_s['day'] = DD\n",
    "    \n",
    "    DD  = pd.get_dummies( DD,prefix='day', drop_first=True)\n",
    "    df_train_s = pd.concat([df_train_s, DD],axis =1 )\n",
    "\n",
    "    # Month, time of the dat, df_train_s\n",
    "    df_train_s['month']  = df_train_s['start_timestamp'].map(month)\n",
    "    df_train_s['time_of_day']  = df_train_s['start_timestamp'].map(time_of_day)\n",
    " \n",
    "    # distance between start and end of the trip\n",
    "    df_train_s['distance']   = df_train_s.apply(lambda x :distance(x), axis=1 )\n",
    "    df_train_s['distance2'] = df_train_s['distance']**2\n",
    "\n",
    "    # distance between start, end, and center of Manhatan \n",
    "    df_train_s['pickup_MH']  = df_train_s.apply(pickup_to_MH, axis=1 )\n",
    "    df_train_s['dropoff_MH'] = df_train_s.apply(dropoff_to_MH, axis=1 )\n",
    "    return df_train_s"
   ]
  },
  {
   "cell_type": "markdown",
   "metadata": {},
   "source": [
    "Now, we can easily add all of the above features to both traing and test data set. Due to time limtation and calculation power I only used 10% of the traing data."
   ]
  },
  {
   "cell_type": "code",
   "execution_count": 24,
   "metadata": {},
   "outputs": [],
   "source": [
    "np.random.seed(42)\n",
    "df_train_s = df_train.sample(frac=0.01, replace=False)\n",
    "df_train_s = add_features(df_train_s)\n",
    "df_train_s['velocity'] = np.array(df_train_s['distance']/(df_train_s['duration']/3600))\n"
   ]
  },
  {
   "cell_type": "code",
   "execution_count": 25,
   "metadata": {},
   "outputs": [
    {
     "data": {
      "text/html": [
       "<div>\n",
       "<style>\n",
       "    .dataframe thead tr:only-child th {\n",
       "        text-align: right;\n",
       "    }\n",
       "\n",
       "    .dataframe thead th {\n",
       "        text-align: left;\n",
       "    }\n",
       "\n",
       "    .dataframe tbody tr th {\n",
       "        vertical-align: top;\n",
       "    }\n",
       "</style>\n",
       "<table border=\"1\" class=\"dataframe\">\n",
       "  <thead>\n",
       "    <tr style=\"text-align: right;\">\n",
       "      <th></th>\n",
       "      <th>start_lng</th>\n",
       "      <th>start_lat</th>\n",
       "      <th>end_lng</th>\n",
       "      <th>end_lat</th>\n",
       "      <th>start_timestamp</th>\n",
       "      <th>duration</th>\n",
       "      <th>day</th>\n",
       "      <th>day_Monday</th>\n",
       "      <th>day_Saturday</th>\n",
       "      <th>day_Sunday</th>\n",
       "      <th>day_Thursday</th>\n",
       "      <th>day_Tuesday</th>\n",
       "      <th>day_Wednesday</th>\n",
       "      <th>month</th>\n",
       "      <th>time_of_day</th>\n",
       "      <th>distance</th>\n",
       "      <th>pickup_MH</th>\n",
       "      <th>dropoff_MH</th>\n",
       "      <th>velocity</th>\n",
       "    </tr>\n",
       "    <tr>\n",
       "      <th>row_id</th>\n",
       "      <th></th>\n",
       "      <th></th>\n",
       "      <th></th>\n",
       "      <th></th>\n",
       "      <th></th>\n",
       "      <th></th>\n",
       "      <th></th>\n",
       "      <th></th>\n",
       "      <th></th>\n",
       "      <th></th>\n",
       "      <th></th>\n",
       "      <th></th>\n",
       "      <th></th>\n",
       "      <th></th>\n",
       "      <th></th>\n",
       "      <th></th>\n",
       "      <th></th>\n",
       "      <th></th>\n",
       "      <th></th>\n",
       "    </tr>\n",
       "  </thead>\n",
       "  <tbody>\n",
       "    <tr>\n",
       "      <th>9780992</th>\n",
       "      <td>-73.989853</td>\n",
       "      <td>40.755650</td>\n",
       "      <td>-74.183144</td>\n",
       "      <td>40.687981</td>\n",
       "      <td>1443634595</td>\n",
       "      <td>1415</td>\n",
       "      <td>Wednesday</td>\n",
       "      <td>0</td>\n",
       "      <td>0</td>\n",
       "      <td>0</td>\n",
       "      <td>0</td>\n",
       "      <td>0</td>\n",
       "      <td>1</td>\n",
       "      <td>9</td>\n",
       "      <td>38195</td>\n",
       "      <td>11.170204</td>\n",
       "      <td>2.131971</td>\n",
       "      <td>12.916332</td>\n",
       "      <td>28.418893</td>\n",
       "    </tr>\n",
       "    <tr>\n",
       "      <th>2996891</th>\n",
       "      <td>-73.958855</td>\n",
       "      <td>40.774952</td>\n",
       "      <td>-73.968918</td>\n",
       "      <td>40.763908</td>\n",
       "      <td>1425321185</td>\n",
       "      <td>646</td>\n",
       "      <td>Monday</td>\n",
       "      <td>1</td>\n",
       "      <td>0</td>\n",
       "      <td>0</td>\n",
       "      <td>0</td>\n",
       "      <td>0</td>\n",
       "      <td>0</td>\n",
       "      <td>3</td>\n",
       "      <td>37985</td>\n",
       "      <td>0.927061</td>\n",
       "      <td>0.857563</td>\n",
       "      <td>1.329705</td>\n",
       "      <td>5.166283</td>\n",
       "    </tr>\n",
       "    <tr>\n",
       "      <th>937249</th>\n",
       "      <td>-73.987465</td>\n",
       "      <td>40.749176</td>\n",
       "      <td>-74.005402</td>\n",
       "      <td>40.727180</td>\n",
       "      <td>1420942464</td>\n",
       "      <td>762</td>\n",
       "      <td>Saturday</td>\n",
       "      <td>0</td>\n",
       "      <td>1</td>\n",
       "      <td>0</td>\n",
       "      <td>0</td>\n",
       "      <td>0</td>\n",
       "      <td>0</td>\n",
       "      <td>1</td>\n",
       "      <td>20736</td>\n",
       "      <td>1.786044</td>\n",
       "      <td>2.491536</td>\n",
       "      <td>4.255566</td>\n",
       "      <td>8.438002</td>\n",
       "    </tr>\n",
       "    <tr>\n",
       "      <th>4483011</th>\n",
       "      <td>-73.965347</td>\n",
       "      <td>40.774792</td>\n",
       "      <td>-73.964058</td>\n",
       "      <td>40.770973</td>\n",
       "      <td>1428517239</td>\n",
       "      <td>164</td>\n",
       "      <td>Wednesday</td>\n",
       "      <td>0</td>\n",
       "      <td>0</td>\n",
       "      <td>0</td>\n",
       "      <td>0</td>\n",
       "      <td>0</td>\n",
       "      <td>1</td>\n",
       "      <td>4</td>\n",
       "      <td>40839</td>\n",
       "      <td>0.272059</td>\n",
       "      <td>0.650309</td>\n",
       "      <td>0.916834</td>\n",
       "      <td>5.972035</td>\n",
       "    </tr>\n",
       "    <tr>\n",
       "      <th>1285264</th>\n",
       "      <td>-74.006622</td>\n",
       "      <td>40.744011</td>\n",
       "      <td>-74.008812</td>\n",
       "      <td>40.704350</td>\n",
       "      <td>1423735890</td>\n",
       "      <td>715</td>\n",
       "      <td>Thursday</td>\n",
       "      <td>0</td>\n",
       "      <td>0</td>\n",
       "      <td>0</td>\n",
       "      <td>1</td>\n",
       "      <td>0</td>\n",
       "      <td>0</td>\n",
       "      <td>2</td>\n",
       "      <td>7890</td>\n",
       "      <td>2.739118</td>\n",
       "      <td>3.275508</td>\n",
       "      <td>5.781371</td>\n",
       "      <td>13.791361</td>\n",
       "    </tr>\n",
       "  </tbody>\n",
       "</table>\n",
       "</div>"
      ],
      "text/plain": [
       "         start_lng  start_lat    end_lng    end_lat  start_timestamp  \\\n",
       "row_id                                                                 \n",
       "9780992 -73.989853  40.755650 -74.183144  40.687981       1443634595   \n",
       "2996891 -73.958855  40.774952 -73.968918  40.763908       1425321185   \n",
       "937249  -73.987465  40.749176 -74.005402  40.727180       1420942464   \n",
       "4483011 -73.965347  40.774792 -73.964058  40.770973       1428517239   \n",
       "1285264 -74.006622  40.744011 -74.008812  40.704350       1423735890   \n",
       "\n",
       "         duration        day  day_Monday  day_Saturday  day_Sunday  \\\n",
       "row_id                                                               \n",
       "9780992      1415  Wednesday           0             0           0   \n",
       "2996891       646     Monday           1             0           0   \n",
       "937249        762   Saturday           0             1           0   \n",
       "4483011       164  Wednesday           0             0           0   \n",
       "1285264       715   Thursday           0             0           0   \n",
       "\n",
       "         day_Thursday  day_Tuesday  day_Wednesday  month  time_of_day  \\\n",
       "row_id                                                                  \n",
       "9780992             0            0              1      9        38195   \n",
       "2996891             0            0              0      3        37985   \n",
       "937249              0            0              0      1        20736   \n",
       "4483011             0            0              1      4        40839   \n",
       "1285264             1            0              0      2         7890   \n",
       "\n",
       "          distance  pickup_MH  dropoff_MH   velocity  \n",
       "row_id                                                \n",
       "9780992  11.170204   2.131971   12.916332  28.418893  \n",
       "2996891   0.927061   0.857563    1.329705   5.166283  \n",
       "937249    1.786044   2.491536    4.255566   8.438002  \n",
       "4483011   0.272059   0.650309    0.916834   5.972035  \n",
       "1285264   2.739118   3.275508    5.781371  13.791361  "
      ]
     },
     "execution_count": 25,
     "metadata": {},
     "output_type": "execute_result"
    }
   ],
   "source": [
    "df_train_s.head()"
   ]
  },
  {
   "cell_type": "code",
   "execution_count": 170,
   "metadata": {
    "collapsed": true
   },
   "outputs": [],
   "source": [
    "# adding the feature to test set.\n",
    "df_test = add_features(df_test)"
   ]
  },
  {
   "cell_type": "markdown",
   "metadata": {},
   "source": [
    "## Removing Outlires\n",
    "The following functions are used to compute these features. Considering the speed limit and the fact the usual trafic in New York, it is reseanable to assume that always the speed show not exceed 90 mph. Therefore, I remove the points with more than this number as the outlires. Also, I removed the data with less than .5 mph. Specificlly, there exists many samples with zero distance between starting and ending point which might happen becouse GPS problem."
   ]
  },
  {
   "cell_type": "code",
   "execution_count": 41,
   "metadata": {},
   "outputs": [],
   "source": [
    "df_train_s = df_train_s[df_train_s['velocity']<90]\n",
    "df_train_s = df_train_s[df_train_s['velocity']>.5]"
   ]
  },
  {
   "cell_type": "markdown",
   "metadata": {},
   "source": [
    "## Data Visulazation\n",
    "\n",
    "First we look at the starting and ending point of the trips which happens in New York.\n",
    "\n",
    "\n"
   ]
  },
  {
   "cell_type": "code",
   "execution_count": 30,
   "metadata": {},
   "outputs": [
    {
     "data": {
      "image/png": "[encoded data removed]",
      "text/plain": [
       "<matplotlib.figure.Figure at 0x12c7ff208>"
      ]
     },
     "metadata": {},
     "output_type": "display_data"
    }
   ],
   "source": [
    "fig, axes = plt.subplots(nrows=1, ncols=2, figsize=(12, 6))\n",
    "\n",
    "ax = df_train_s.plot.scatter( 'start_lat','start_lng',\n",
    "                             ax = axes[0],\n",
    "                             title='Start point of travel')\n",
    "ax.set(xlabel=\"latitude\", ylabel='longitude')\n",
    "ax = df_train_s.plot.scatter('end_lng','end_lat',\n",
    "                        ax = axes[1],\n",
    "                        title='Destination of the travel')\n",
    "ax.set(xlabel=\"latitude\", ylabel='longitude')\n",
    "plt.show()"
   ]
  },
  {
   "cell_type": "markdown",
   "metadata": {},
   "source": [
    " Here are some statitcs about the volacity, distance of each trip and its duration. Also, we looked at the density function of the volacity. A log-normal or Gamma distribution are approprate candiatdes for this distribution."
   ]
  },
  {
   "cell_type": "code",
   "execution_count": 42,
   "metadata": {},
   "outputs": [
    {
     "data": {
      "text/html": [
       "<div>\n",
       "<style>\n",
       "    .dataframe thead tr:only-child th {\n",
       "        text-align: right;\n",
       "    }\n",
       "\n",
       "    .dataframe thead th {\n",
       "        text-align: left;\n",
       "    }\n",
       "\n",
       "    .dataframe tbody tr th {\n",
       "        vertical-align: top;\n",
       "    }\n",
       "</style>\n",
       "<table border=\"1\" class=\"dataframe\">\n",
       "  <thead>\n",
       "    <tr style=\"text-align: right;\">\n",
       "      <th></th>\n",
       "      <th>distance</th>\n",
       "      <th>duration</th>\n",
       "      <th>velocity</th>\n",
       "    </tr>\n",
       "  </thead>\n",
       "  <tbody>\n",
       "    <tr>\n",
       "      <th>count</th>\n",
       "      <td>128036.000000</td>\n",
       "      <td>128036.000000</td>\n",
       "      <td>128036.000000</td>\n",
       "    </tr>\n",
       "    <tr>\n",
       "      <th>mean</th>\n",
       "      <td>2.169607</td>\n",
       "      <td>844.237621</td>\n",
       "      <td>9.091566</td>\n",
       "    </tr>\n",
       "    <tr>\n",
       "      <th>std</th>\n",
       "      <td>2.427614</td>\n",
       "      <td>668.033514</td>\n",
       "      <td>4.828527</td>\n",
       "    </tr>\n",
       "    <tr>\n",
       "      <th>min</th>\n",
       "      <td>0.000420</td>\n",
       "      <td>1.000000</td>\n",
       "      <td>0.500455</td>\n",
       "    </tr>\n",
       "    <tr>\n",
       "      <th>25%</th>\n",
       "      <td>0.791981</td>\n",
       "      <td>404.000000</td>\n",
       "      <td>5.766028</td>\n",
       "    </tr>\n",
       "    <tr>\n",
       "      <th>50%</th>\n",
       "      <td>1.342186</td>\n",
       "      <td>669.000000</td>\n",
       "      <td>8.094952</td>\n",
       "    </tr>\n",
       "    <tr>\n",
       "      <th>75%</th>\n",
       "      <td>2.455935</td>\n",
       "      <td>1081.000000</td>\n",
       "      <td>11.294384</td>\n",
       "    </tr>\n",
       "    <tr>\n",
       "      <th>max</th>\n",
       "      <td>29.962159</td>\n",
       "      <td>25693.000000</td>\n",
       "      <td>58.945106</td>\n",
       "    </tr>\n",
       "  </tbody>\n",
       "</table>\n",
       "</div>"
      ],
      "text/plain": [
       "            distance       duration       velocity\n",
       "count  128036.000000  128036.000000  128036.000000\n",
       "mean        2.169607     844.237621       9.091566\n",
       "std         2.427614     668.033514       4.828527\n",
       "min         0.000420       1.000000       0.500455\n",
       "25%         0.791981     404.000000       5.766028\n",
       "50%         1.342186     669.000000       8.094952\n",
       "75%         2.455935    1081.000000      11.294384\n",
       "max        29.962159   25693.000000      58.945106"
      ]
     },
     "execution_count": 42,
     "metadata": {},
     "output_type": "execute_result"
    }
   ],
   "source": [
    "df_train_s[['distance', 'duration','velocity']].describe()"
   ]
  },
  {
   "cell_type": "code",
   "execution_count": 43,
   "metadata": {},
   "outputs": [
    {
     "data": {
      "text/plain": [
       "<matplotlib.axes._subplots.AxesSubplot at 0x12a992978>"
      ]
     },
     "execution_count": 43,
     "metadata": {},
     "output_type": "execute_result"
    },
    {
     "data": {
      "image/png": "[encoded data removed]",
      "text/plain": [
       "<matplotlib.figure.Figure at 0x12b3f67f0>"
      ]
     },
     "metadata": {},
     "output_type": "display_data"
    }
   ],
   "source": [
    "df_train_s['velocity'].hist(bins=1000,normed=True)"
   ]
  },
  {
   "cell_type": "markdown",
   "metadata": {},
   "source": [
    "### Corrolation matrix"
   ]
  },
  {
   "cell_type": "code",
   "execution_count": 44,
   "metadata": {},
   "outputs": [
    {
     "data": {
      "image/png": "[encoded data removed]",
      "text/plain": [
       "<matplotlib.figure.Figure at 0x12ce8fb00>"
      ]
     },
     "metadata": {},
     "output_type": "display_data"
    }
   ],
   "source": [
    "corr = df_train_s.corr()\n",
    "\n",
    "# generate a mask for the lower triangle\n",
    "mask = np.zeros_like(corr, dtype=np.bool)\n",
    "mask[np.triu_indices_from(mask)] = True\n",
    "\n",
    "# set up the matplotlib figure\n",
    "f, ax = plt.subplots(figsize=(18, 18))\n",
    "\n",
    "# generate a custom diverging colormap\n",
    "cmap = sns.diverging_palette(220, 10, as_cmap=True)\n",
    "\n",
    "# draw the heatmap with the mask and correct aspect ratio\n",
    "sns.heatmap(corr, mask=mask, cmap=cmap, vmax=.3,\n",
    "            square=True, \n",
    "            linewidths=.5, cbar_kws={\"shrink\": .5}, ax=ax)\n",
    "\n",
    "plt.show()"
   ]
  },
  {
   "cell_type": "code",
   "execution_count": 53,
   "metadata": {},
   "outputs": [
    {
     "data": {
      "text/plain": [
       "<matplotlib.axes._subplots.AxesSubplot at 0x1338054a8>"
      ]
     },
     "execution_count": 53,
     "metadata": {},
     "output_type": "execute_result"
    },
    {
     "data": {
      "image/png": "[encoded data removed]",
      "text/plain": [
       "<matplotlib.figure.Figure at 0x133845470>"
      ]
     },
     "metadata": {},
     "output_type": "display_data"
    }
   ],
   "source": [
    "df_train_s.plot.scatter( 'distance','velocity')"
   ]
  },
  {
   "cell_type": "code",
   "execution_count": 48,
   "metadata": {},
   "outputs": [
    {
     "data": {
      "text/plain": [
       "<matplotlib.axes._subplots.AxesSubplot at 0x1340c4eb8>"
      ]
     },
     "execution_count": 48,
     "metadata": {},
     "output_type": "execute_result"
    },
    {
     "data": {
      "image/png": "[encoded data removed]",
      "text/plain": [
       "<matplotlib.figure.Figure at 0x12f4a76a0>"
      ]
     },
     "metadata": {},
     "output_type": "display_data"
    }
   ],
   "source": [
    "### Seanility and time Effect on Velocity\n",
    "gr= df_train_s[['velocity','month']].groupby(by='month')\n",
    "gr.mean().plot.bar(yerr=gr.std())"
   ]
  },
  {
   "cell_type": "markdown",
   "metadata": {},
   "source": [
    "## Data preprocessing\n",
    "\n",
    "Let's split our data to train and test set in fraction of $\\frac{4}{1}$ to facilate comparing the results. \n",
    "This test set is differenet from the given test set."
   ]
  },
  {
   "cell_type": "code",
   "execution_count": 105,
   "metadata": {
    "collapsed": true
   },
   "outputs": [],
   "source": [
    "cl = list(set(df_train_s.keys())-{'velocity','duration','day'})\n",
    "X  = np.array(df_train_s[cl])\n",
    "X1 = np.insert(X, 0, 1, axis=1)\n",
    "y = np.array(df_train_s['velocity'])\n",
    "\n",
    "\n",
    "X_train, X_test, y_train, y_test = train_test_split(X1, y, test_size=0.2, random_state=42)\n",
    "\n",
    "dist_train = X_train[:,1]\n",
    "dist_test  = X_test[:,1]\n"
   ]
  },
  {
   "cell_type": "code",
   "execution_count": 106,
   "metadata": {},
   "outputs": [
    {
     "data": {
      "text/plain": [
       "2.1668461824987508"
      ]
     },
     "execution_count": 106,
     "metadata": {},
     "output_type": "execute_result"
    }
   ],
   "source": [
    "list(enumerate(cl))\n",
    "dist_train.mean()"
   ]
  },
  {
   "cell_type": "markdown",
   "metadata": {},
   "source": [
    "## Linear Model "
   ]
  },
  {
   "cell_type": "code",
   "execution_count": 204,
   "metadata": {},
   "outputs": [
    {
     "data": {
      "image/png": "[encoded data removed]",
      "text/plain": [
       "<matplotlib.figure.Figure at 0x166ee9400>"
      ]
     },
     "metadata": {},
     "output_type": "display_data"
    }
   ],
   "source": [
    "model_sk = LinearRegression()\n",
    "model_sk.fit(X_train, y_train)\n",
    "\n",
    "plt.figure(figsize=(12, 8))\n",
    "plt.bar(np.arange(model_sk.coef_.shape[0]) - 0.4, model_sk.coef_)\n",
    "plt.xticks(np.arange(model_sk.coef_.shape[0]), cl, rotation='vertical')\n",
    "plt.xlim([-1, model_sk.coef_.shape[0]])\n",
    "plt.title(\"Linear model coefficients\")\n",
    "plt.show()\n"
   ]
  },
  {
   "cell_type": "markdown",
   "metadata": {},
   "source": [
    "The folling chart also provide better understading. Excepet X12 (dummy for sunday) all the other variables are significant; the p-value is zero and null-hypothesis is rejected."
   ]
  },
  {
   "cell_type": "code",
   "execution_count": 205,
   "metadata": {},
   "outputs": [
    {
     "name": "stdout",
     "output_type": "stream",
     "text": [
      "                            OLS Regression Results                            \n",
      "==============================================================================\n",
      "Dep. Variable:                      y   R-squared:                       0.398\n",
      "Model:                            OLS   Adj. R-squared:                  0.398\n",
      "Method:                 Least Squares   F-statistic:                     3980.\n",
      "Date:                Thu, 28 Dec 2017   Prob (F-statistic):               0.00\n",
      "Time:                        08:56:07   Log-Likelihood:            -2.8052e+05\n",
      "No. Observations:              102428   AIC:                         5.611e+05\n",
      "Df Residuals:                  102410   BIC:                         5.612e+05\n",
      "Df Model:                          17                                         \n",
      "Covariance Type:            nonrobust                                         \n",
      "==============================================================================\n",
      "                 coef    std err          t      P>|t|      [0.025      0.975]\n",
      "------------------------------------------------------------------------------\n",
      "const       -685.1248     83.582     -8.197      0.000    -848.945    -521.305\n",
      "x1             1.4070      0.014    103.644      0.000       1.380       1.434\n",
      "x2            -0.0323      0.017     -1.918      0.055      -0.065       0.001\n",
      "x3             1.6923      0.044     38.571      0.000       1.606       1.778\n",
      "x4             0.2024      0.044      4.639      0.000       0.117       0.288\n",
      "x5             2.8453      0.407      6.998      0.000       2.048       3.642\n",
      "x6            -0.0436      0.001    -39.441      0.000      -0.046      -0.041\n",
      "x7             0.4158      0.011     38.292      0.000       0.395       0.437\n",
      "x8            33.5198      0.662     50.657      0.000      32.223      34.817\n",
      "x9             0.8994      0.045     20.201      0.000       0.812       0.987\n",
      "x10            6.7762      0.537     12.609      0.000       5.723       7.830\n",
      "x11            1.0109      1.158      0.873      0.383      -1.258       3.280\n",
      "x12            0.0904      0.043      2.090      0.037       0.006       0.175\n",
      "x13           -0.0179      0.043     -0.420      0.674      -0.102       0.066\n",
      "x14           -0.0305      0.041     -0.747      0.455      -0.111       0.050\n",
      "x15         -2.58e-09   1.55e-08     -0.166      0.868    -3.3e-08    2.78e-08\n",
      "x16        -6.837e-05   9.26e-07    -73.847      0.000   -7.02e-05   -6.66e-05\n",
      "x17            0.8166      0.043     19.188      0.000       0.733       0.900\n",
      "==============================================================================\n",
      "Omnibus:                    30504.903   Durbin-Watson:                   1.992\n",
      "Prob(Omnibus):                  0.000   Jarque-Bera (JB):           140710.310\n",
      "Skew:                           1.387   Prob(JB):                         0.00\n",
      "Kurtosis:                       8.027   Cond. No.                     1.03e+13\n",
      "==============================================================================\n",
      "\n",
      "Warnings:\n",
      "[1] Standard Errors assume that the covariance matrix of the errors is correctly specified.\n",
      "[2] The condition number is large, 1.03e+13. This might indicate that there are\n",
      "strong multicollinearity or other numerical problems.\n"
     ]
    }
   ],
   "source": [
    "linear_model = sm.OLS(y_train, X_train)\n",
    "linear_results = linear_model.fit()\n",
    "print(linear_results.summary())"
   ]
  },
  {
   "cell_type": "markdown",
   "metadata": {},
   "source": [
    "## Generalized Linear Model\n",
    "I tried GLM with gamma fammaly. "
   ]
  },
  {
   "cell_type": "code",
   "execution_count": 206,
   "metadata": {},
   "outputs": [
    {
     "name": "stderr",
     "output_type": "stream",
     "text": [
      "/Users/z002df6/anaconda/lib/python3.6/site-packages/statsmodels/genmod/generalized_linear_model.py:244: DomainWarning: The inverse_power link function does not respect the domain of the Gamma family.\n",
      "  DomainWarning)\n"
     ]
    },
    {
     "name": "stdout",
     "output_type": "stream",
     "text": [
      "                 Generalized Linear Model Regression Results                  \n",
      "==============================================================================\n",
      "Dep. Variable:                      y   No. Observations:               102428\n",
      "Model:                            GLM   Df Residuals:                   102414\n",
      "Model Family:                   Gamma   Df Model:                           13\n",
      "Link Function:          inverse_power   Scale:                   0.19442760013\n",
      "Method:                          IRLS   Log-Likelihood:            -2.8026e+05\n",
      "Date:                Thu, 28 Dec 2017   Deviance:                       21788.\n",
      "Time:                        08:56:25   Pearson chi2:                 1.99e+04\n",
      "No. Iterations:                   100                                         \n",
      "==============================================================================\n",
      "                 coef    std err          z      P>|z|      [0.025      0.975]\n",
      "------------------------------------------------------------------------------\n",
      "const          6.0060      0.345     17.384      0.000       5.329       6.683\n",
      "x1            -0.0146   9.13e-05   -159.591      0.000      -0.015      -0.014\n",
      "x2            -0.0003   7.74e-05     -3.666      0.000      -0.000      -0.000\n",
      "x3            -0.0203      0.000    -47.881      0.000      -0.021      -0.019\n",
      "x4            -0.0027      0.000     -5.578      0.000      -0.004      -0.002\n",
      "x5            -0.0393      0.002    -20.029      0.000      -0.043      -0.035\n",
      "x6             0.0006   5.29e-06    119.167      0.000       0.001       0.001\n",
      "x7            -0.0022   4.74e-05    -45.802      0.000      -0.002      -0.002\n",
      "x8            -0.1930      0.002   -109.229      0.000      -0.196      -0.190\n",
      "x9            -0.0113      0.000    -24.825      0.000      -0.012      -0.010\n",
      "x10           -0.0438      0.003    -14.727      0.000      -0.050      -0.038\n",
      "x11           -0.0915      0.005    -18.119      0.000      -0.101      -0.082\n",
      "x12           -0.0008      0.001     -1.572      0.116      -0.002       0.000\n",
      "x13            0.0006      0.001      1.054      0.292      -0.000       0.002\n",
      "x14            0.0012      0.000      7.548      0.000       0.001       0.001\n",
      "x15        -2.997e-10   5.78e-11     -5.184      0.000   -4.13e-10   -1.86e-10\n",
      "x16         8.222e-07   8.37e-09     98.194      0.000    8.06e-07    8.39e-07\n",
      "x17           -0.0114      0.000    -26.469      0.000      -0.012      -0.011\n",
      "==============================================================================\n"
     ]
    }
   ],
   "source": [
    "gamma_model = sm.GLM( y_train, X_train,family=sm.families.Gamma())\n",
    "gamma_results = gamma_model.fit()\n",
    "print(gamma_results.summary())"
   ]
  },
  {
   "cell_type": "markdown",
   "metadata": {},
   "source": [
    "## Deep Neural Network (DNN)\n",
    "\n",
    "Here, I am useing a DNN as a prediction model. I am using the Keras package to train the network. Network includes  3 layers. Also, between each two layer a dropout layer is add. RELU and softmax are used as the activation functions. Here, I define the model.  \n",
    "\n",
    "I normilized the data the input data to imporve the performance. "
   ]
  },
  {
   "cell_type": "code",
   "execution_count": 195,
   "metadata": {},
   "outputs": [
    {
     "name": "stdout",
     "output_type": "stream",
     "text": [
      "_________________________________________________________________\n",
      "Layer (type)                 Output Shape              Param #   \n",
      "=================================================================\n",
      "dense_18 (Dense)             (None, 100)               1900      \n",
      "_________________________________________________________________\n",
      "dropout_12 (Dropout)         (None, 100)               0         \n",
      "_________________________________________________________________\n",
      "dense_19 (Dense)             (None, 50)                5050      \n",
      "_________________________________________________________________\n",
      "dropout_13 (Dropout)         (None, 50)                0         \n",
      "_________________________________________________________________\n",
      "dense_20 (Dense)             (None, 100)               5100      \n",
      "_________________________________________________________________\n",
      "dropout_14 (Dropout)         (None, 100)               0         \n",
      "_________________________________________________________________\n",
      "dense_21 (Dense)             (None, 1)                 101       \n",
      "=================================================================\n",
      "Total params: 12,151\n",
      "Trainable params: 12,151\n",
      "Non-trainable params: 0\n",
      "_________________________________________________________________\n"
     ]
    },
    {
     "name": "stderr",
     "output_type": "stream",
     "text": [
      "/Users/z002df6/anaconda/lib/python3.6/site-packages/ipykernel_launcher.py:2: UserWarning: Update your `Dense` call to the Keras 2 API: `Dense(100, input_dim=18, activation=\"relu\", kernel_initializer=\"uniform\")`\n",
      "  \n",
      "/Users/z002df6/anaconda/lib/python3.6/site-packages/ipykernel_launcher.py:4: UserWarning: Update your `Dense` call to the Keras 2 API: `Dense(50, activation=\"softmax\", kernel_initializer=\"uniform\")`\n",
      "  after removing the cwd from sys.path.\n",
      "/Users/z002df6/anaconda/lib/python3.6/site-packages/ipykernel_launcher.py:6: UserWarning: Update your `Dense` call to the Keras 2 API: `Dense(100, activation=\"relu\", kernel_initializer=\"uniform\")`\n",
      "  \n",
      "/Users/z002df6/anaconda/lib/python3.6/site-packages/ipykernel_launcher.py:8: UserWarning: Update your `Dense` call to the Keras 2 API: `Dense(1, activation=\"relu\", kernel_initializer=\"uniform\")`\n",
      "  \n"
     ]
    }
   ],
   "source": [
    "DNN_model = Sequential()\n",
    "DNN_model.add(Dense(100,input_dim=X_train.shape[1],init='uniform',activation='relu'))\n",
    "DNN_model.add(Dropout(0.5))\n",
    "DNN_model.add(Dense(50,init='uniform',activation='softmax'))\n",
    "DNN_model.add(Dropout(0.5))\n",
    "DNN_model.add(Dense(100,init='uniform',activation='relu'))\n",
    "DNN_model.add(Dropout(0.5))\n",
    "DNN_model.add(Dense(1,init='uniform',activation='relu'))\n",
    "\n",
    "DNN_model.summary()\n"
   ]
  },
  {
   "cell_type": "markdown",
   "metadata": {},
   "source": [
    "### Fitting the DNN"
   ]
  },
  {
   "cell_type": "code",
   "execution_count": 196,
   "metadata": {},
   "outputs": [
    {
     "name": "stdout",
     "output_type": "stream",
     "text": [
      "Train on 102428 samples, validate on 25608 samples\n",
      "Epoch 1/100\n",
      "2s - loss: 3.8939 - val_loss: 2.8545\n",
      "Epoch 2/100\n",
      "2s - loss: 3.0103 - val_loss: 2.8045\n",
      "Epoch 3/100\n",
      "2s - loss: 2.9702 - val_loss: 2.7933\n",
      "Epoch 4/100\n",
      "2s - loss: 2.9282 - val_loss: 2.7548\n",
      "Epoch 5/100\n",
      "2s - loss: 2.9222 - val_loss: 2.7306\n",
      "Epoch 6/100\n",
      "2s - loss: 2.9013 - val_loss: 2.7235\n",
      "Epoch 7/100\n",
      "2s - loss: 2.8852 - val_loss: 2.7172\n",
      "Epoch 8/100\n",
      "2s - loss: 2.8784 - val_loss: 2.7125\n",
      "Epoch 9/100\n",
      "2s - loss: 2.8572 - val_loss: 2.6998\n",
      "Epoch 10/100\n",
      "2s - loss: 2.8461 - val_loss: 2.6974\n",
      "Epoch 11/100\n",
      "2s - loss: 2.8372 - val_loss: 2.7010\n",
      "Epoch 12/100\n",
      "2s - loss: 2.8295 - val_loss: 2.6925\n",
      "Epoch 13/100\n",
      "2s - loss: 2.8248 - val_loss: 2.6924\n",
      "Epoch 14/100\n",
      "2s - loss: 2.8133 - val_loss: 2.6827\n",
      "Epoch 15/100\n",
      "2s - loss: 2.8123 - val_loss: 2.6869\n",
      "Epoch 16/100\n",
      "2s - loss: 2.7984 - val_loss: 2.6885\n",
      "Epoch 17/100\n",
      "2s - loss: 2.7926 - val_loss: 2.6851\n",
      "Epoch 18/100\n",
      "2s - loss: 2.7892 - val_loss: 2.6849\n",
      "Epoch 19/100\n",
      "2s - loss: 2.7831 - val_loss: 2.6757\n",
      "Epoch 20/100\n",
      "2s - loss: 2.7786 - val_loss: 2.6751\n",
      "Epoch 21/100\n",
      "2s - loss: 2.7692 - val_loss: 2.6810\n",
      "Epoch 22/100\n",
      "2s - loss: 2.7685 - val_loss: 2.6736\n",
      "Epoch 23/100\n",
      "2s - loss: 2.7593 - val_loss: 2.6658\n",
      "Epoch 24/100\n",
      "2s - loss: 2.7583 - val_loss: 2.6657\n",
      "Epoch 25/100\n",
      "2s - loss: 2.7538 - val_loss: 2.6670\n",
      "Epoch 26/100\n",
      "2s - loss: 2.7433 - val_loss: 2.6676\n",
      "Epoch 27/100\n",
      "2s - loss: 2.7470 - val_loss: 2.6666\n",
      "Epoch 28/100\n",
      "2s - loss: 2.7444 - val_loss: 2.6661\n",
      "Epoch 29/100\n",
      "2s - loss: 2.7412 - val_loss: 2.6643\n",
      "Epoch 30/100\n",
      "2s - loss: 2.7357 - val_loss: 2.6634\n",
      "Epoch 31/100\n",
      "2s - loss: 2.7403 - val_loss: 2.6630\n",
      "Epoch 32/100\n",
      "2s - loss: 2.7355 - val_loss: 2.6705\n",
      "Epoch 33/100\n",
      "2s - loss: 2.7355 - val_loss: 2.6722\n",
      "Epoch 34/100\n",
      "2s - loss: 2.7294 - val_loss: 2.6703\n",
      "Epoch 35/100\n",
      "2s - loss: 2.7345 - val_loss: 2.6651\n",
      "Epoch 36/100\n",
      "2s - loss: 2.7301 - val_loss: 2.6666\n",
      "Epoch 37/100\n",
      "2s - loss: 2.7277 - val_loss: 2.6698\n",
      "Epoch 38/100\n",
      "2s - loss: 2.7262 - val_loss: 2.6641\n",
      "Epoch 39/100\n",
      "2s - loss: 2.7261 - val_loss: 2.6739\n",
      "Epoch 40/100\n",
      "2s - loss: 2.7232 - val_loss: 2.6643\n",
      "Epoch 41/100\n",
      "2s - loss: 2.7195 - val_loss: 2.6672\n",
      "Epoch 42/100\n",
      "2s - loss: 2.7203 - val_loss: 2.6617\n",
      "Epoch 43/100\n",
      "2s - loss: 2.7225 - val_loss: 2.6604\n",
      "Epoch 44/100\n",
      "2s - loss: 2.7195 - val_loss: 2.6610\n",
      "Epoch 45/100\n",
      "2s - loss: 2.7225 - val_loss: 2.6634\n",
      "Epoch 46/100\n",
      "2s - loss: 2.7163 - val_loss: 2.6803\n",
      "Epoch 47/100\n",
      "2s - loss: 2.7161 - val_loss: 2.6661\n",
      "Epoch 48/100\n",
      "2s - loss: 2.7171 - val_loss: 2.6573\n",
      "Epoch 49/100\n",
      "2s - loss: 2.7128 - val_loss: 2.6603\n",
      "Epoch 50/100\n",
      "2s - loss: 2.7169 - val_loss: 2.6554\n",
      "Epoch 51/100\n",
      "2s - loss: 2.7117 - val_loss: 2.6563\n",
      "Epoch 52/100\n",
      "2s - loss: 2.7174 - val_loss: 2.6573\n",
      "Epoch 53/100\n",
      "2s - loss: 2.7143 - val_loss: 2.6546\n",
      "Epoch 54/100\n",
      "2s - loss: 2.7137 - val_loss: 2.6665\n",
      "Epoch 55/100\n",
      "2s - loss: 2.7114 - val_loss: 2.6611\n",
      "Epoch 56/100\n",
      "2s - loss: 2.7093 - val_loss: 2.6533\n",
      "Epoch 57/100\n",
      "2s - loss: 2.7099 - val_loss: 2.6598\n",
      "Epoch 58/100\n",
      "2s - loss: 2.7061 - val_loss: 2.6506\n",
      "Epoch 59/100\n",
      "2s - loss: 2.7074 - val_loss: 2.6636\n",
      "Epoch 60/100\n",
      "2s - loss: 2.7094 - val_loss: 2.6524\n",
      "Epoch 61/100\n",
      "2s - loss: 2.7053 - val_loss: 2.6534\n",
      "Epoch 62/100\n",
      "2s - loss: 2.7055 - val_loss: 2.6549\n",
      "Epoch 63/100\n",
      "2s - loss: 2.7068 - val_loss: 2.6650\n",
      "Epoch 64/100\n",
      "2s - loss: 2.7095 - val_loss: 2.6534\n",
      "Epoch 65/100\n",
      "2s - loss: 2.7051 - val_loss: 2.6506\n",
      "Epoch 66/100\n",
      "2s - loss: 2.7053 - val_loss: 2.6522\n",
      "Epoch 67/100\n",
      "2s - loss: 2.7011 - val_loss: 2.6539\n",
      "Epoch 68/100\n",
      "2s - loss: 2.7057 - val_loss: 2.6559\n",
      "Epoch 69/100\n",
      "2s - loss: 2.7039 - val_loss: 2.6600\n",
      "Epoch 70/100\n",
      "2s - loss: 2.7024 - val_loss: 2.6531\n",
      "Epoch 71/100\n",
      "2s - loss: 2.7025 - val_loss: 2.6498\n",
      "Epoch 72/100\n",
      "2s - loss: 2.7000 - val_loss: 2.6521\n",
      "Epoch 73/100\n",
      "2s - loss: 2.7069 - val_loss: 2.6528\n",
      "Epoch 74/100\n",
      "2s - loss: 2.7079 - val_loss: 2.6526\n",
      "Epoch 75/100\n",
      "2s - loss: 2.7077 - val_loss: 2.6500\n",
      "Epoch 76/100\n",
      "2s - loss: 2.7042 - val_loss: 2.6593\n",
      "Epoch 77/100\n",
      "2s - loss: 2.7030 - val_loss: 2.6510\n",
      "Epoch 78/100\n",
      "3s - loss: 2.6996 - val_loss: 2.6492\n",
      "Epoch 79/100\n",
      "2s - loss: 2.7050 - val_loss: 2.6476\n",
      "Epoch 80/100\n",
      "2s - loss: 2.7074 - val_loss: 2.6510\n",
      "Epoch 81/100\n",
      "2s - loss: 2.7016 - val_loss: 2.6465\n",
      "Epoch 82/100\n",
      "2s - loss: 2.6952 - val_loss: 2.6521\n",
      "Epoch 83/100\n",
      "2s - loss: 2.7023 - val_loss: 2.6492\n",
      "Epoch 84/100\n",
      "2s - loss: 2.6981 - val_loss: 2.6472\n",
      "Epoch 85/100\n",
      "2s - loss: 2.6987 - val_loss: 2.6467\n",
      "Epoch 86/100\n",
      "2s - loss: 2.6987 - val_loss: 2.6471\n",
      "Epoch 87/100\n",
      "2s - loss: 2.6971 - val_loss: 2.6423\n",
      "Epoch 88/100\n",
      "2s - loss: 2.6985 - val_loss: 2.6469\n",
      "Epoch 89/100\n",
      "2s - loss: 2.6967 - val_loss: 2.6517\n",
      "Epoch 90/100\n",
      "2s - loss: 2.6983 - val_loss: 2.6504\n",
      "Epoch 91/100\n",
      "2s - loss: 2.7020 - val_loss: 2.6539\n",
      "Epoch 92/100\n",
      "2s - loss: 2.6997 - val_loss: 2.6570\n",
      "Epoch 93/100\n",
      "2s - loss: 2.6974 - val_loss: 2.6485\n",
      "Epoch 94/100\n",
      "2s - loss: 2.6963 - val_loss: 2.6488\n",
      "Epoch 95/100\n",
      "2s - loss: 2.6973 - val_loss: 2.6450\n",
      "Epoch 96/100\n",
      "2s - loss: 2.7003 - val_loss: 2.6549\n",
      "Epoch 97/100\n",
      "2s - loss: 2.6999 - val_loss: 2.6463\n",
      "Epoch 98/100\n",
      "2s - loss: 2.7003 - val_loss: 2.6444\n",
      "Epoch 99/100\n",
      "2s - loss: 2.6987 - val_loss: 2.6474\n",
      "Epoch 100/100\n",
      "2s - loss: 2.6999 - val_loss: 2.6563\n"
     ]
    }
   ],
   "source": [
    "mn = X1.mean(axis=0)\n",
    "#model.compile(loss='mean_absolute_error',optimizer='adam',metrics='[accuracy]')\n",
    "DNN_model.compile(loss='mean_absolute_error',optimizer='adam')\n",
    "history = DNN_model.fit(X_train/mn,y_train,  \n",
    "                    validation_data=(X_test/mn, y_test),\n",
    "                    epochs =100,\n",
    "                    batch_size=100,\n",
    "                    verbose=2)\n",
    "\n"
   ]
  },
  {
   "cell_type": "code",
   "execution_count": 197,
   "metadata": {},
   "outputs": [
    {
     "data": {
      "text/plain": [
       "<matplotlib.legend.Legend at 0x1626c0f60>"
      ]
     },
     "execution_count": 197,
     "metadata": {},
     "output_type": "execute_result"
    },
    {
     "data": {
      "image/png": "[encoded data removed]",
      "text/plain": [
       "<matplotlib.figure.Figure at 0x1b38e1898>"
      ]
     },
     "metadata": {},
     "output_type": "display_data"
    }
   ],
   "source": [
    "plt.figure(figsize=(10, 8))\n",
    "plt.title(\"Dense model training\", fontsize=12)\n",
    "plt.plot(history.history[\"loss\"], label=\"Train\")\n",
    "plt.plot(history.history[\"val_loss\"], label=\"Test\")\n",
    "plt.grid(\"on\")\n",
    "plt.xlabel(\"Epoch\", fontsize=12)\n",
    "plt.ylabel(\"loss\", fontsize=12)\n",
    "plt.legend(loc=\"upper right\")"
   ]
  },
  {
   "cell_type": "markdown",
   "metadata": {},
   "source": [
    "## Evalution\n",
    "\n",
    "In this part, I compare the propsed models and choose the best one. I compare the results based on mean absolute\n",
    "error of predicted versus actual durations, and also mean absolute percentage error which is the percantge of the error. Note that here  we compare based on duration as asked in the question and not the velocity. \n"
   ]
  },
  {
   "cell_type": "code",
   "execution_count": 207,
   "metadata": {},
   "outputs": [],
   "source": [
    "preds_test, preds_train = {}, {}\n",
    "\n",
    "#Linear Model\n",
    "preds_test['linear']  = linear_results.predict(X_test)\n",
    "preds_train['linear'] = linear_results.predict(X_train)\n",
    "\n",
    "#GLM (Gamma Model)\n",
    "\n",
    "preds_test['GLM']  = gamma_results.predict(X_test)\n",
    "preds_train['GLM'] = gamma_results.predict(X_train)\n",
    "\n",
    "#Deep Learning\n",
    "preds_test['DL']  = np.squeeze(DNN_model.predict(X_test/mn))\n",
    "preds_train['DL'] = np.squeeze(DNN_model.predict(X_train/mn))\n",
    "\n",
    "\n"
   ]
  },
  {
   "cell_type": "markdown",
   "metadata": {},
   "source": [
    "The functions are used for evalution"
   ]
  },
  {
   "cell_type": "code",
   "execution_count": 84,
   "metadata": {},
   "outputs": [],
   "source": [
    "def mean_absolute_error(dist,y_true, y_pred ): \n",
    "    \"\"\"\n",
    "    Args: \n",
    "        dist(ndarray)   : distance between pick up and drop off \n",
    "        y_true(ndarray) : true velocity\n",
    "        y_pred(ndarray) : the prediction value of velocity\n",
    "\n",
    "    \"\"\"\n",
    "    err = np.abs(dist/y_true - dist/y_pred)\n",
    "    err = err[np.isfinite(err)]\n",
    "    return np.mean(err) *3600\n",
    "\n",
    "\n",
    "def mean_absolute_percentage_error(dist,y_true, y_pred ): \n",
    "    \"\"\"\n",
    "    Args: \n",
    "        dist(ndarray)   : distance between pick up and drop off \n",
    "        y_true(ndarray) : true velocity\n",
    "        y_pred(ndarray) : the prediction value of velocity\n",
    "\n",
    "    \"\"\"\n",
    "    err = np.abs(y_true/y_pred - 1)\n",
    "    err = err[np.isfinite(err)]\n",
    "    return np.mean(err)*100\n",
    "\n",
    "\n",
    "def evalute(dist,y_true,prediction):\n",
    "    MAE, MAPE= {}, {}\n",
    "    for kys, y_pred in prediction.items():\n",
    "        MAE[kys]   = mean_absolute_error(dist,y_true, y_pred )\n",
    "        MAPE[kys]  = mean_absolute_percentage_error(dist,y_true, y_pred )\n",
    "        \n",
    "        \n",
    "    return MAE, MAPE"
   ]
  },
  {
   "cell_type": "code",
   "execution_count": 209,
   "metadata": {},
   "outputs": [
    {
     "data": {
      "text/html": [
       "<div>\n",
       "<style>\n",
       "    .dataframe thead tr:only-child th {\n",
       "        text-align: right;\n",
       "    }\n",
       "\n",
       "    .dataframe thead th {\n",
       "        text-align: left;\n",
       "    }\n",
       "\n",
       "    .dataframe tbody tr th {\n",
       "        vertical-align: top;\n",
       "    }\n",
       "</style>\n",
       "<table border=\"1\" class=\"dataframe\">\n",
       "  <thead>\n",
       "    <tr style=\"text-align: right;\">\n",
       "      <th></th>\n",
       "      <th>MAE_test</th>\n",
       "      <th>MAE_train</th>\n",
       "      <th>MAPE_test</th>\n",
       "      <th>MAPE_train</th>\n",
       "    </tr>\n",
       "  </thead>\n",
       "  <tbody>\n",
       "    <tr>\n",
       "      <th>DL</th>\n",
       "      <td>7.360206</td>\n",
       "      <td>7.330754</td>\n",
       "      <td>33.989024</td>\n",
       "      <td>33.661978</td>\n",
       "    </tr>\n",
       "    <tr>\n",
       "      <th>GLM</th>\n",
       "      <td>6.786721</td>\n",
       "      <td>7.246643</td>\n",
       "      <td>32.516880</td>\n",
       "      <td>32.406202</td>\n",
       "    </tr>\n",
       "    <tr>\n",
       "      <th>linear</th>\n",
       "      <td>7.299544</td>\n",
       "      <td>7.264867</td>\n",
       "      <td>31.866012</td>\n",
       "      <td>31.679155</td>\n",
       "    </tr>\n",
       "  </tbody>\n",
       "</table>\n",
       "</div>"
      ],
      "text/plain": [
       "        MAE_test  MAE_train  MAPE_test  MAPE_train\n",
       "DL      7.360206   7.330754  33.989024   33.661978\n",
       "GLM     6.786721   7.246643  32.516880   32.406202\n",
       "linear  7.299544   7.264867  31.866012   31.679155"
      ]
     },
     "execution_count": 209,
     "metadata": {},
     "output_type": "execute_result"
    }
   ],
   "source": [
    "MAE_train, MAPE_train = evalute(dist_train,y_train, preds_train)\n",
    "MAE_test, MAPE_test = evalute(dist_test,y_test, preds_test)\n",
    "\n",
    "\n",
    "pd.DataFrame([MAE_test,MAE_train, MAPE_test, MAPE_train], \n",
    "             index=  ['MAE_test', 'MAE_train', 'MAPE_test', 'MAPE_train'] ).transpose()"
   ]
  },
  {
   "cell_type": "code",
   "execution_count": 201,
   "metadata": {},
   "outputs": [
    {
     "data": {
      "text/plain": [
       "2.1668461824987508"
      ]
     },
     "execution_count": 201,
     "metadata": {},
     "output_type": "execute_result"
    }
   ],
   "source": [
    "dist_train.mean()"
   ]
  },
  {
   "cell_type": "markdown",
   "metadata": {},
   "source": [
    "## Generate Prediction for Test Set\n",
    "\n",
    "By comparing the three models (linear, GLM, DNN), I choose GLM for generating the predication for the given test set. "
   ]
  },
  {
   "cell_type": "code",
   "execution_count": 212,
   "metadata": {},
   "outputs": [],
   "source": [
    "XX  = np.array(df_test[cl])\n",
    "XX = np.insert(XX, 0, 1, axis=1)\n",
    "\n",
    "dist_x = XX[:,1]\n",
    "#DNN_TD = dist_x/np.squeeze(DNN_model.predict(XX/mn))*3600\n",
    "GLM_TD = dist_x/gamma_results.predict(XX)*3600\n",
    "df_ans= pd.DataFrame(GLM_TD, columns =['duration'])\n",
    "\n",
    "\n",
    "df_ans.index.name = 'row_id'\n",
    "df_ans.to_csv('answer.csv')\n",
    "df_ans= pd.DataFrame(TD, columns =['duration'])"
   ]
  },
  {
   "cell_type": "markdown",
   "metadata": {},
   "source": [
    "##  Extention and Further Idea\n",
    "Here, we only use the vincenty, but by conteccting to google API and fidning the real distance between start and end point the preditor defenitlly can be improved. Also, here I only used 10% of data points becouse of the limitation on runnig the DNN. By using GPU or running over the cloud we can use all the samples. \n",
    "\n",
    "\n",
    "\n"
   ]
  }
 ],
 "metadata": {
  "kernelspec": {
   "display_name": "Python 3",
   "language": "python",
   "name": "python3"
  },
  "language_info": {
   "codemirror_mode": {
    "name": "ipython",
    "version": 3
   },
   "file_extension": ".py",
   "mimetype": "text/x-python",
   "name": "python",
   "nbconvert_exporter": "python",
   "pygments_lexer": "ipython3",
   "version": "3.6.1"
  },
  "toc": {
   "colors": {
    "hover_highlight": "#DAA520",
    "navigate_num": "#000000",
    "navigate_text": "#333333",
    "running_highlight": "#FF0000",
    "selected_highlight": "#FFD700",
    "sidebar_border": "#EEEEEE",
    "wrapper_background": "#FFFFFF"
   },
   "moveMenuLeft": true,
   "nav_menu": {
    "height": "102px",
    "width": "252px"
   },
   "navigate_menu": true,
   "number_sections": true,
   "sideBar": true,
   "threshold": 4,
   "toc_cell": false,
   "toc_section_display": "block",
   "toc_window_display": false,
   "widenNotebook": false
  }
 },
 "nbformat": 4,
 "nbformat_minor": 2
}
